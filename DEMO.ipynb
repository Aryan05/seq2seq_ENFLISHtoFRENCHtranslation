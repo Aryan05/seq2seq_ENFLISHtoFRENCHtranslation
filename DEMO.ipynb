{
 "cells": [
  {
   "cell_type": "markdown",
   "metadata": {
    "colab_type": "text",
    "id": "vbSeyS1uFtMn"
   },
   "source": [
    "# Train the model"
   ]
  },
  {
   "cell_type": "code",
   "execution_count": 4,
   "metadata": {
    "colab": {
     "base_uri": "https://localhost:8080/",
     "height": 170
    },
    "colab_type": "code",
    "id": "R-oDmq-ZFo9n",
    "outputId": "c80d1982-92ee-439a-db6e-b4364c363236"
   },
   "outputs": [
    {
     "name": "stdout",
     "output_type": "stream",
     "text": [
      "135842 translation pairs found in dataset.\n",
      "Reduced dataset to 135690 translation pairs.\n",
      "No of words in each language:\n",
      "eng 12996\n",
      "fra 21267\n",
      "Starting Training Loop...\n",
      "3m 42s (- 7m 24s) (5000 33%) 5.0802\n",
      "7m 38s (- 3m 49s) (10000 66%) 4.9499\n",
      "11m 45s (- 0m 0s) (15000 100%) 4.9172\n"
     ]
    }
   ],
   "source": [
    "!python train.py --epoch=15000 --lr=0.001"
   ]
  },
  {
   "cell_type": "markdown",
   "metadata": {
    "colab_type": "text",
    "id": "7eP2DwWKF8bE"
   },
   "source": [
    "# Translate using trained model"
   ]
  },
  {
   "cell_type": "code",
   "execution_count": 5,
   "metadata": {
    "colab": {
     "base_uri": "https://localhost:8080/",
     "height": 136
    },
    "colab_type": "code",
    "id": "QO2AJV-sFyGv",
    "outputId": "d43e9b87-24e5-4ab4-b606-a9717e52ec87"
   },
   "outputs": [
    {
     "name": "stdout",
     "output_type": "stream",
     "text": [
      "135842 translation pairs found in dataset.\n",
      "Reduced dataset to 135690 translation pairs.\n",
      "No of words in each language:\n",
      "eng 12996\n",
      "fra 21267\n",
      "input = i am hungry !\n",
      "output = je ne a la . <EOS>\n"
     ]
    }
   ],
   "source": [
    "!python translate.py --translate_sentence='I am hungry!'"
   ]
  },
  {
   "cell_type": "markdown",
   "metadata": {
    "colab_type": "text",
    "id": "VUaODl9aIdiK"
   },
   "source": [
    "# Things to add\n",
    "\n",
    "- Validation can be easily added\n",
    "- More training\n",
    "- much bigger dataset"
   ]
  }
 ],
 "metadata": {
  "accelerator": "GPU",
  "colab": {
   "collapsed_sections": [],
   "name": "seq2seq machine translation DEMO.ipynb",
   "provenance": [],
   "version": "0.3.2"
  },
  "kernelspec": {
   "display_name": "Python 3",
   "language": "python",
   "name": "python3"
  },
  "language_info": {
   "codemirror_mode": {
    "name": "ipython",
    "version": 3
   },
   "file_extension": ".py",
   "mimetype": "text/x-python",
   "name": "python",
   "nbconvert_exporter": "python",
   "pygments_lexer": "ipython3",
   "version": "3.7.7"
  }
 },
 "nbformat": 4,
 "nbformat_minor": 1
}
